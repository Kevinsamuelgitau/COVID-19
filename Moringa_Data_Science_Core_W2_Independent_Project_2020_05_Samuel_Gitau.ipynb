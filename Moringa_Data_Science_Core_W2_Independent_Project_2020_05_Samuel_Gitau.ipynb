{
  "nbformat": 4,
  "nbformat_minor": 0,
  "metadata": {
    "colab": {
      "name": "Moringa_Data_Science_Core_W2_Independent_Project_2020_05_Samuel_Gitau",
      "provenance": [],
      "collapsed_sections": [],
      "toc_visible": true,
      "authorship_tag": "ABX9TyMFeOu1f5jdh/q6bNkEPBhP",
      "include_colab_link": true
    },
    "kernelspec": {
      "name": "python3",
      "display_name": "Python 3"
    }
  },
  "cells": [
    {
      "cell_type": "markdown",
      "metadata": {
        "id": "view-in-github",
        "colab_type": "text"
      },
      "source": [
        "<a href=\"https://colab.research.google.com/github/Kevinsamuelgitau/COVID-19/blob/master/Moringa_Data_Science_Core_W2_Independent_Project_2020_05_Samuel_Gitau.ipynb\" target=\"_parent\"><img src=\"https://colab.research.google.com/assets/colab-badge.svg\" alt=\"Open In Colab\"/></a>"
      ]
    },
    {
      "cell_type": "markdown",
      "metadata": {
        "id": "QckAM4AAPhiB",
        "colab_type": "text"
      },
      "source": [
        "# OVERVIEW"
      ]
    },
    {
      "cell_type": "markdown",
      "metadata": {
        "id": "VZW4MqemPo0Q",
        "colab_type": "text"
      },
      "source": [
        "[link text](https://)Financial Inclusion remains one of the main obstacles to economic and human development in Africa. For example, across Kenya, Rwanda, Tanzania, and Uganda only 9.1 million adults (or 13.9% of the adult population) have access to or use a commercial bank account.\n",
        "\n",
        "Traditionally, access to bank accounts has been regarded as an indicator of financial inclusion. Despite the proliferation of mobile money in Africa and the growth of innovative fintech solutions, banks still play a pivotal role in facilitating access to financial services. Access to bank accounts enables households to save and facilitate payments while also helping businesses build up their credit-worthiness and improve their access to other financial services. Therefore, access to bank accounts is an essential contributor to long-term economic growth.\n",
        "\n",
        "The research problem is to figure out how we can predict which individuals are most likely to have or use a bank account. Your solution will help provide an indication of the state of financial inclusion in Kenya, Rwanda, Tanzania, and Uganda, while providing insights into some of the key demographic factors that might drive individuals’ financial outcomes.\n",
        "\n",
        "The main dataset contains demographic information and what financial services are used by individuals across East Africa. This data was extracted from various Finscope surveys ranging from 2016 to 2018.\n",
        "\n",
        "Here are the datasets used:\n",
        "Variable Definitions: http://bit.ly/VariableDefinitions (Links to an external site.) \n",
        "Dataset: http://bit.ly/FinancialDataset (Links to an external site.) "
      ]
    },
    {
      "cell_type": "markdown",
      "metadata": {
        "id": "cprz_ubEWqfh",
        "colab_type": "text"
      },
      "source": [
        "# ANALYTIC QUESTION\n",
        "*italicized text*"
      ]
    },
    {
      "cell_type": "markdown",
      "metadata": {
        "id": "3ndsD5zRW4jE",
        "colab_type": "text"
      },
      "source": [
        "1. DATA ANALYTIC QUESTION\n",
        "\n",
        "How can we predict which individuals use a bank account?\n"
      ]
    },
    {
      "cell_type": "markdown",
      "metadata": {
        "id": "PQMYnLzvXepg",
        "colab_type": "text"
      },
      "source": [
        "2. METRICS OF SUCCESS\n",
        "\n"
      ]
    },
    {
      "cell_type": "markdown",
      "metadata": {
        "id": "4ut00j_fXy0h",
        "colab_type": "text"
      },
      "source": [
        "3. CONTEXT\n",
        "\n"
      ]
    },
    {
      "cell_type": "markdown",
      "metadata": {
        "id": "DC5TgvRwX1pf",
        "colab_type": "text"
      },
      "source": [
        "4. EXPERIMENTAL DESIGN"
      ]
    },
    {
      "cell_type": "markdown",
      "metadata": {
        "id": "mXSl50BGYC5v",
        "colab_type": "text"
      },
      "source": [
        "5. DATA RELEVANCE"
      ]
    },
    {
      "cell_type": "markdown",
      "metadata": {
        "id": "Q2MSJvuSYq8c",
        "colab_type": "text"
      },
      "source": [
        "# IMPORTING LIBRARIES\n"
      ]
    },
    {
      "cell_type": "code",
      "metadata": {
        "id": "3Jf4HIQvYxPz",
        "colab_type": "code",
        "colab": {}
      },
      "source": [
        "import pandas as pd\n",
        "import numpy as npng\n",
        "import seaborn as sns\n",
        "import matplotlib.pyplot as plt\n"
      ],
      "execution_count": 0,
      "outputs": []
    },
    {
      "cell_type": "markdown",
      "metadata": {
        "id": "tO9iT9UtZkhJ",
        "colab_type": "text"
      },
      "source": [
        "LOADING DATASETS"
      ]
    },
    {
      "cell_type": "code",
      "metadata": {
        "id": "dxhCVIzkZnyh",
        "colab_type": "code",
        "colab": {
          "base_uri": "https://localhost:8080/",
          "height": 377
        },
        "outputId": "ad24ec77-0bf1-488f-cd18-f966a0969daa"
      },
      "source": [
        "# Dataset url: : http://bit.ly/FinancialDataset \n",
        "# To load our dataset\n",
        "with open(\"Financial Dataset - 1.csv\",'r')as f:\n",
        "  finances = pd.read_csv(f, encoding= 'utf')\n",
        "# to preview dataset\n",
        "finances.head()"
      ],
      "execution_count": 8,
      "outputs": [
        {
          "output_type": "execute_result",
          "data": {
            "text/html": [
              "<div>\n",
              "<style scoped>\n",
              "    .dataframe tbody tr th:only-of-type {\n",
              "        vertical-align: middle;\n",
              "    }\n",
              "\n",
              "    .dataframe tbody tr th {\n",
              "        vertical-align: top;\n",
              "    }\n",
              "\n",
              "    .dataframe thead th {\n",
              "        text-align: right;\n",
              "    }\n",
              "</style>\n",
              "<table border=\"1\" class=\"dataframe\">\n",
              "  <thead>\n",
              "    <tr style=\"text-align: right;\">\n",
              "      <th></th>\n",
              "      <th>country</th>\n",
              "      <th>year</th>\n",
              "      <th>uniqueid</th>\n",
              "      <th>Has a Bank account</th>\n",
              "      <th>Type of Location</th>\n",
              "      <th>Cell Phone Access</th>\n",
              "      <th>household_size</th>\n",
              "      <th>Respondent Age</th>\n",
              "      <th>gender_of_respondent</th>\n",
              "      <th>The relathip with head</th>\n",
              "      <th>marital_status</th>\n",
              "      <th>Level of Educuation</th>\n",
              "      <th>Type of Job</th>\n",
              "    </tr>\n",
              "  </thead>\n",
              "  <tbody>\n",
              "    <tr>\n",
              "      <th>0</th>\n",
              "      <td>Kenya</td>\n",
              "      <td>2018</td>\n",
              "      <td>uniqueid_1</td>\n",
              "      <td>Yes</td>\n",
              "      <td>Rural</td>\n",
              "      <td>Yes</td>\n",
              "      <td>3.0</td>\n",
              "      <td>24.0</td>\n",
              "      <td>Female</td>\n",
              "      <td>Spouse</td>\n",
              "      <td>Married/Living together</td>\n",
              "      <td>Secondary education</td>\n",
              "      <td>Self employed</td>\n",
              "    </tr>\n",
              "    <tr>\n",
              "      <th>1</th>\n",
              "      <td>Kenya</td>\n",
              "      <td>2018</td>\n",
              "      <td>uniqueid_2</td>\n",
              "      <td>No</td>\n",
              "      <td>Rural</td>\n",
              "      <td>No</td>\n",
              "      <td>5.0</td>\n",
              "      <td>70.0</td>\n",
              "      <td>Female</td>\n",
              "      <td>Head of Household</td>\n",
              "      <td>Widowed</td>\n",
              "      <td>No formal education</td>\n",
              "      <td>Government Dependent</td>\n",
              "    </tr>\n",
              "    <tr>\n",
              "      <th>2</th>\n",
              "      <td>Kenya</td>\n",
              "      <td>2018</td>\n",
              "      <td>uniqueid_3</td>\n",
              "      <td>Yes</td>\n",
              "      <td>Urban</td>\n",
              "      <td>Yes</td>\n",
              "      <td>5.0</td>\n",
              "      <td>26.0</td>\n",
              "      <td>Male</td>\n",
              "      <td>Other relative</td>\n",
              "      <td>Single/Never Married</td>\n",
              "      <td>Vocational/Specialised training</td>\n",
              "      <td>Self employed</td>\n",
              "    </tr>\n",
              "    <tr>\n",
              "      <th>3</th>\n",
              "      <td>Kenya</td>\n",
              "      <td>2018</td>\n",
              "      <td>uniqueid_4</td>\n",
              "      <td>No</td>\n",
              "      <td>Rural</td>\n",
              "      <td>Yes</td>\n",
              "      <td>5.0</td>\n",
              "      <td>34.0</td>\n",
              "      <td>Female</td>\n",
              "      <td>Head of Household</td>\n",
              "      <td>Married/Living together</td>\n",
              "      <td>Primary education</td>\n",
              "      <td>Formally employed Private</td>\n",
              "    </tr>\n",
              "    <tr>\n",
              "      <th>4</th>\n",
              "      <td>Kenya</td>\n",
              "      <td>2018</td>\n",
              "      <td>uniqueid_5</td>\n",
              "      <td>No</td>\n",
              "      <td>Urban</td>\n",
              "      <td>No</td>\n",
              "      <td>8.0</td>\n",
              "      <td>26.0</td>\n",
              "      <td>Male</td>\n",
              "      <td>Child</td>\n",
              "      <td>Single/Never Married</td>\n",
              "      <td>Primary education</td>\n",
              "      <td>Informally employed</td>\n",
              "    </tr>\n",
              "  </tbody>\n",
              "</table>\n",
              "</div>"
            ],
            "text/plain": [
              "  country  year  ...              Level of Educuation                Type of Job\n",
              "0   Kenya  2018  ...              Secondary education              Self employed\n",
              "1   Kenya  2018  ...              No formal education       Government Dependent\n",
              "2   Kenya  2018  ...  Vocational/Specialised training              Self employed\n",
              "3   Kenya  2018  ...                Primary education  Formally employed Private\n",
              "4   Kenya  2018  ...                Primary education        Informally employed\n",
              "\n",
              "[5 rows x 13 columns]"
            ]
          },
          "metadata": {
            "tags": []
          },
          "execution_count": 8
        }
      ]
    },
    {
      "cell_type": "markdown",
      "metadata": {
        "id": "rmB-UDdzaxBN",
        "colab_type": "text"
      },
      "source": [
        "# DATA EXPLORATION"
      ]
    },
    {
      "cell_type": "code",
      "metadata": {
        "id": "QP3em4OibAZ5",
        "colab_type": "code",
        "colab": {
          "base_uri": "https://localhost:8080/",
          "height": 34
        },
        "outputId": "f5493fe8-7bb4-4495-c575-196c0f5c3804"
      },
      "source": [
        "# To check the number of records\n",
        "finances.shape\n"
      ],
      "execution_count": 10,
      "outputs": [
        {
          "output_type": "execute_result",
          "data": {
            "text/plain": [
              "(23524, 13)"
            ]
          },
          "metadata": {
            "tags": []
          },
          "execution_count": 10
        }
      ]
    },
    {
      "cell_type": "code",
      "metadata": {
        "id": "wKRp5EpKbpMN",
        "colab_type": "code",
        "colab": {
          "base_uri": "https://localhost:8080/",
          "height": 357
        },
        "outputId": "8af931e3-814c-413c-fa15-2cb1477d7de0"
      },
      "source": [
        "# To check datatypes from our data\n",
        "finances.info()"
      ],
      "execution_count": 13,
      "outputs": [
        {
          "output_type": "stream",
          "text": [
            "<class 'pandas.core.frame.DataFrame'>\n",
            "RangeIndex: 23524 entries, 0 to 23523\n",
            "Data columns (total 13 columns):\n",
            " #   Column                  Non-Null Count  Dtype  \n",
            "---  ------                  --------------  -----  \n",
            " 0   country                 23510 non-null  object \n",
            " 1   year                    23524 non-null  int64  \n",
            " 2   uniqueid                23524 non-null  object \n",
            " 3   Has a Bank account      23488 non-null  object \n",
            " 4   Type of Location        23509 non-null  object \n",
            " 5   Cell Phone Access       23513 non-null  object \n",
            " 6   household_size          23496 non-null  float64\n",
            " 7   Respondent Age          23490 non-null  float64\n",
            " 8   gender_of_respondent    23490 non-null  object \n",
            " 9   The relathip with head  23520 non-null  object \n",
            " 10  marital_status          23492 non-null  object \n",
            " 11  Level of Educuation     23495 non-null  object \n",
            " 12  Type of Job             23494 non-null  object \n",
            "dtypes: float64(2), int64(1), object(10)\n",
            "memory usage: 2.3+ MB\n"
          ],
          "name": "stdout"
        }
      ]
    },
    {
      "cell_type": "markdown",
      "metadata": {
        "id": "O-HswYrSqmTZ",
        "colab_type": "text"
      },
      "source": [
        "# EXTERNAL DATA SOURCE VALIDATION"
      ]
    },
    {
      "cell_type": "markdown",
      "metadata": {
        "id": "oajp28y8b_wC",
        "colab_type": "text"
      },
      "source": [
        "# DATA CLEANING"
      ]
    },
    {
      "cell_type": "code",
      "metadata": {
        "id": "H4Yj3V4acEVz",
        "colab_type": "code",
        "colab": {
          "base_uri": "https://localhost:8080/",
          "height": 306
        },
        "outputId": "6be0ce75-a9c7-4f02-bddf-71ebdf99a662"
      },
      "source": [
        "# First, to rename the columns to make analysis easier\n",
        "finances.columns = ['Country','Year','ID', 'Bank account', 'Location','Phone', 'Householdsize', 'Age','Gender', 'Househierachy', 'Status','Educuation', 'Jobtype']\n",
        "# And to preview new column names\n",
        "finances.head()"
      ],
      "execution_count": 14,
      "outputs": [
        {
          "output_type": "execute_result",
          "data": {
            "text/html": [
              "<div>\n",
              "<style scoped>\n",
              "    .dataframe tbody tr th:only-of-type {\n",
              "        vertical-align: middle;\n",
              "    }\n",
              "\n",
              "    .dataframe tbody tr th {\n",
              "        vertical-align: top;\n",
              "    }\n",
              "\n",
              "    .dataframe thead th {\n",
              "        text-align: right;\n",
              "    }\n",
              "</style>\n",
              "<table border=\"1\" class=\"dataframe\">\n",
              "  <thead>\n",
              "    <tr style=\"text-align: right;\">\n",
              "      <th></th>\n",
              "      <th>Country</th>\n",
              "      <th>Year</th>\n",
              "      <th>ID</th>\n",
              "      <th>Bank account</th>\n",
              "      <th>Location</th>\n",
              "      <th>Phone</th>\n",
              "      <th>Householdsize</th>\n",
              "      <th>Age</th>\n",
              "      <th>Gender</th>\n",
              "      <th>Househierachy</th>\n",
              "      <th>Status</th>\n",
              "      <th>Educuation</th>\n",
              "      <th>Jobtype</th>\n",
              "    </tr>\n",
              "  </thead>\n",
              "  <tbody>\n",
              "    <tr>\n",
              "      <th>0</th>\n",
              "      <td>Kenya</td>\n",
              "      <td>2018</td>\n",
              "      <td>uniqueid_1</td>\n",
              "      <td>Yes</td>\n",
              "      <td>Rural</td>\n",
              "      <td>Yes</td>\n",
              "      <td>3.0</td>\n",
              "      <td>24.0</td>\n",
              "      <td>Female</td>\n",
              "      <td>Spouse</td>\n",
              "      <td>Married/Living together</td>\n",
              "      <td>Secondary education</td>\n",
              "      <td>Self employed</td>\n",
              "    </tr>\n",
              "    <tr>\n",
              "      <th>1</th>\n",
              "      <td>Kenya</td>\n",
              "      <td>2018</td>\n",
              "      <td>uniqueid_2</td>\n",
              "      <td>No</td>\n",
              "      <td>Rural</td>\n",
              "      <td>No</td>\n",
              "      <td>5.0</td>\n",
              "      <td>70.0</td>\n",
              "      <td>Female</td>\n",
              "      <td>Head of Household</td>\n",
              "      <td>Widowed</td>\n",
              "      <td>No formal education</td>\n",
              "      <td>Government Dependent</td>\n",
              "    </tr>\n",
              "    <tr>\n",
              "      <th>2</th>\n",
              "      <td>Kenya</td>\n",
              "      <td>2018</td>\n",
              "      <td>uniqueid_3</td>\n",
              "      <td>Yes</td>\n",
              "      <td>Urban</td>\n",
              "      <td>Yes</td>\n",
              "      <td>5.0</td>\n",
              "      <td>26.0</td>\n",
              "      <td>Male</td>\n",
              "      <td>Other relative</td>\n",
              "      <td>Single/Never Married</td>\n",
              "      <td>Vocational/Specialised training</td>\n",
              "      <td>Self employed</td>\n",
              "    </tr>\n",
              "    <tr>\n",
              "      <th>3</th>\n",
              "      <td>Kenya</td>\n",
              "      <td>2018</td>\n",
              "      <td>uniqueid_4</td>\n",
              "      <td>No</td>\n",
              "      <td>Rural</td>\n",
              "      <td>Yes</td>\n",
              "      <td>5.0</td>\n",
              "      <td>34.0</td>\n",
              "      <td>Female</td>\n",
              "      <td>Head of Household</td>\n",
              "      <td>Married/Living together</td>\n",
              "      <td>Primary education</td>\n",
              "      <td>Formally employed Private</td>\n",
              "    </tr>\n",
              "    <tr>\n",
              "      <th>4</th>\n",
              "      <td>Kenya</td>\n",
              "      <td>2018</td>\n",
              "      <td>uniqueid_5</td>\n",
              "      <td>No</td>\n",
              "      <td>Urban</td>\n",
              "      <td>No</td>\n",
              "      <td>8.0</td>\n",
              "      <td>26.0</td>\n",
              "      <td>Male</td>\n",
              "      <td>Child</td>\n",
              "      <td>Single/Never Married</td>\n",
              "      <td>Primary education</td>\n",
              "      <td>Informally employed</td>\n",
              "    </tr>\n",
              "  </tbody>\n",
              "</table>\n",
              "</div>"
            ],
            "text/plain": [
              "  Country  Year  ...                       Educuation                    Jobtype\n",
              "0   Kenya  2018  ...              Secondary education              Self employed\n",
              "1   Kenya  2018  ...              No formal education       Government Dependent\n",
              "2   Kenya  2018  ...  Vocational/Specialised training              Self employed\n",
              "3   Kenya  2018  ...                Primary education  Formally employed Private\n",
              "4   Kenya  2018  ...                Primary education        Informally employed\n",
              "\n",
              "[5 rows x 13 columns]"
            ]
          },
          "metadata": {
            "tags": []
          },
          "execution_count": 14
        }
      ]
    },
    {
      "cell_type": "code",
      "metadata": {
        "id": "zs_WuNDXlFFG",
        "colab_type": "code",
        "colab": {
          "base_uri": "https://localhost:8080/",
          "height": 306
        },
        "outputId": "76f8211e-f7ab-44a8-d898-a2b429b465eb"
      },
      "source": [
        "#To remove white spaces in our columns\n",
        "finances.columns.str.replace(\" \",\" \")\n",
        "# And make column names uniform\n",
        "finances.columns = finances.columns.str.strip().str.upper()\n",
        "finances['COUNTRY'] = finances['COUNTRY'].str.replace(' ',' ').str.lower()\n",
        "finances['ID'] = finances['ID'].str.replace(' ',' ').str.lower()\n",
        "finances['BANK ACCOUNT'] = finances['BANK ACCOUNT'].str.replace(' ',' ').str.lower()\n",
        "finances['LOCATION']= finances['LOCATION'].str.replace(' ',' ').str.lower()\n",
        "finances['PHONE'] = finances['PHONE'].str.replace(' ',' ').str.lower()\n",
        "finances['GENDER']= finances['GENDER'].str.replace(' ',' ').str.lower()\n",
        "finances['HOUSEHIERACHY'] = finances['HOUSEHIERACHY'].str.replace(' ',' ').str.lower() \n",
        "finances['STATUS'] = finances['STATUS'].str.replace(' ',' ').str.lower() \n",
        "finances['EDUCUATION'] = finances['EDUCUATION'].str.replace(' ',' ').str.lower() \n",
        "finances['JOBTYPE'] = finances['JOBTYPE'].str.replace(' ',' ').str.lower() \n",
        "finances.head()"
      ],
      "execution_count": 16,
      "outputs": [
        {
          "output_type": "execute_result",
          "data": {
            "text/html": [
              "<div>\n",
              "<style scoped>\n",
              "    .dataframe tbody tr th:only-of-type {\n",
              "        vertical-align: middle;\n",
              "    }\n",
              "\n",
              "    .dataframe tbody tr th {\n",
              "        vertical-align: top;\n",
              "    }\n",
              "\n",
              "    .dataframe thead th {\n",
              "        text-align: right;\n",
              "    }\n",
              "</style>\n",
              "<table border=\"1\" class=\"dataframe\">\n",
              "  <thead>\n",
              "    <tr style=\"text-align: right;\">\n",
              "      <th></th>\n",
              "      <th>COUNTRY</th>\n",
              "      <th>YEAR</th>\n",
              "      <th>ID</th>\n",
              "      <th>BANK ACCOUNT</th>\n",
              "      <th>LOCATION</th>\n",
              "      <th>PHONE</th>\n",
              "      <th>HOUSEHOLDSIZE</th>\n",
              "      <th>AGE</th>\n",
              "      <th>GENDER</th>\n",
              "      <th>HOUSEHIERACHY</th>\n",
              "      <th>STATUS</th>\n",
              "      <th>EDUCUATION</th>\n",
              "      <th>JOBTYPE</th>\n",
              "    </tr>\n",
              "  </thead>\n",
              "  <tbody>\n",
              "    <tr>\n",
              "      <th>0</th>\n",
              "      <td>kenya</td>\n",
              "      <td>2018</td>\n",
              "      <td>uniqueid_1</td>\n",
              "      <td>yes</td>\n",
              "      <td>rural</td>\n",
              "      <td>yes</td>\n",
              "      <td>3.0</td>\n",
              "      <td>24.0</td>\n",
              "      <td>female</td>\n",
              "      <td>spouse</td>\n",
              "      <td>married/living together</td>\n",
              "      <td>secondary education</td>\n",
              "      <td>self employed</td>\n",
              "    </tr>\n",
              "    <tr>\n",
              "      <th>1</th>\n",
              "      <td>kenya</td>\n",
              "      <td>2018</td>\n",
              "      <td>uniqueid_2</td>\n",
              "      <td>no</td>\n",
              "      <td>rural</td>\n",
              "      <td>no</td>\n",
              "      <td>5.0</td>\n",
              "      <td>70.0</td>\n",
              "      <td>female</td>\n",
              "      <td>head of household</td>\n",
              "      <td>widowed</td>\n",
              "      <td>no formal education</td>\n",
              "      <td>government dependent</td>\n",
              "    </tr>\n",
              "    <tr>\n",
              "      <th>2</th>\n",
              "      <td>kenya</td>\n",
              "      <td>2018</td>\n",
              "      <td>uniqueid_3</td>\n",
              "      <td>yes</td>\n",
              "      <td>urban</td>\n",
              "      <td>yes</td>\n",
              "      <td>5.0</td>\n",
              "      <td>26.0</td>\n",
              "      <td>male</td>\n",
              "      <td>other relative</td>\n",
              "      <td>single/never married</td>\n",
              "      <td>vocational/specialised training</td>\n",
              "      <td>self employed</td>\n",
              "    </tr>\n",
              "    <tr>\n",
              "      <th>3</th>\n",
              "      <td>kenya</td>\n",
              "      <td>2018</td>\n",
              "      <td>uniqueid_4</td>\n",
              "      <td>no</td>\n",
              "      <td>rural</td>\n",
              "      <td>yes</td>\n",
              "      <td>5.0</td>\n",
              "      <td>34.0</td>\n",
              "      <td>female</td>\n",
              "      <td>head of household</td>\n",
              "      <td>married/living together</td>\n",
              "      <td>primary education</td>\n",
              "      <td>formally employed private</td>\n",
              "    </tr>\n",
              "    <tr>\n",
              "      <th>4</th>\n",
              "      <td>kenya</td>\n",
              "      <td>2018</td>\n",
              "      <td>uniqueid_5</td>\n",
              "      <td>no</td>\n",
              "      <td>urban</td>\n",
              "      <td>no</td>\n",
              "      <td>8.0</td>\n",
              "      <td>26.0</td>\n",
              "      <td>male</td>\n",
              "      <td>child</td>\n",
              "      <td>single/never married</td>\n",
              "      <td>primary education</td>\n",
              "      <td>informally employed</td>\n",
              "    </tr>\n",
              "  </tbody>\n",
              "</table>\n",
              "</div>"
            ],
            "text/plain": [
              "  COUNTRY  YEAR  ...                       EDUCUATION                    JOBTYPE\n",
              "0   kenya  2018  ...              secondary education              self employed\n",
              "1   kenya  2018  ...              no formal education       government dependent\n",
              "2   kenya  2018  ...  vocational/specialised training              self employed\n",
              "3   kenya  2018  ...                primary education  formally employed private\n",
              "4   kenya  2018  ...                primary education        informally employed\n",
              "\n",
              "[5 rows x 13 columns]"
            ]
          },
          "metadata": {
            "tags": []
          },
          "execution_count": 16
        }
      ]
    },
    {
      "cell_type": "code",
      "metadata": {
        "id": "cpf7KxA4l9qf",
        "colab_type": "code",
        "colab": {}
      },
      "source": [
        "#Dropping columns that we don't need in analysis\n",
        "\n",
        "finances.drop('ID',axis=1,inplace= True)\n"
      ],
      "execution_count": 0,
      "outputs": []
    },
    {
      "cell_type": "code",
      "metadata": {
        "id": "SItT6G5lmHPD",
        "colab_type": "code",
        "colab": {
          "base_uri": "https://localhost:8080/",
          "height": 801
        },
        "outputId": "f356a365-108c-41ea-c41c-35209922c923"
      },
      "source": [
        "# To check for outliers in categorical variables through boxplots\n",
        "fig, (ax1, ax2,ax3) = plt.subplots(3,1, figsize=(10,12))\n",
        "\n",
        "fig.suptitle('BOXPLOTS')\n",
        "\n",
        "sns.boxplot(finances['YEAR'], ax= ax1, orient = 'h')\n",
        "sns.boxplot(finances['AGE'],ax = ax2, orient = 'h')\n",
        "sns.boxplot(finances['HOUSEHOLDSIZE'], ax = ax3, orient = 'h')\n",
        "plt.show()"
      ],
      "execution_count": 19,
      "outputs": [
        {
          "output_type": "display_data",
          "data": {
            "image/png": "[encoded data removed]",
            "text/plain": [
              "<Figure size 720x864 with 3 Axes>"
            ]
          },
          "metadata": {
            "tags": [],
            "needs_background": "light"
          }
        }
      ]
    },
    {
      "cell_type": "code",
      "metadata": {
        "id": "ta8PneDQmiFP",
        "colab_type": "code",
        "colab": {
          "base_uri": "https://localhost:8080/",
          "height": 34
        },
        "outputId": "1d60a465-af16-47d6-bcf2-f48f3dd87065"
      },
      "source": [
        "# To remove outliers\n",
        "finances = finances[finances['YEAR'] <= 2018]\n",
        "finances['YEAR'].unique()"
      ],
      "execution_count": 21,
      "outputs": [
        {
          "output_type": "execute_result",
          "data": {
            "text/plain": [
              "array([2018, 2016, 2017])"
            ]
          },
          "metadata": {
            "tags": []
          },
          "execution_count": 21
        }
      ]
    },
    {
      "cell_type": "code",
      "metadata": {
        "id": "_rWEuJ7Hm4ib",
        "colab_type": "code",
        "colab": {
          "base_uri": "https://localhost:8080/",
          "height": 238
        },
        "outputId": "55c5229f-6458-4008-8de1-b49315c05f08"
      },
      "source": [
        "# To check for missing numerical data\n",
        "\n",
        "finances.isnull().sum()"
      ],
      "execution_count": 22,
      "outputs": [
        {
          "output_type": "execute_result",
          "data": {
            "text/plain": [
              "COUNTRY          14\n",
              "YEAR              0\n",
              "BANK ACCOUNT     36\n",
              "LOCATION         15\n",
              "PHONE            11\n",
              "HOUSEHOLDSIZE    28\n",
              "AGE              34\n",
              "GENDER           34\n",
              "HOUSEHIERACHY     4\n",
              "STATUS           32\n",
              "EDUCUATION       29\n",
              "JOBTYPE          30\n",
              "dtype: int64"
            ]
          },
          "metadata": {
            "tags": []
          },
          "execution_count": 22
        }
      ]
    },
    {
      "cell_type": "code",
      "metadata": {
        "id": "qMbkbOqJnG8O",
        "colab_type": "code",
        "colab": {
          "base_uri": "https://localhost:8080/",
          "height": 340
        },
        "outputId": "b0f286fc-1818-4083-f1c4-c271c71f127d"
      },
      "source": [
        "# And removing missing data\n",
        "\n",
        "\n",
        "finances.dropna(axis=0, how = 'any', inplace = True)\n",
        "finances.info()"
      ],
      "execution_count": 24,
      "outputs": [
        {
          "output_type": "stream",
          "text": [
            "<class 'pandas.core.frame.DataFrame'>\n",
            "Int64Index: 23340 entries, 0 to 23523\n",
            "Data columns (total 12 columns):\n",
            " #   Column         Non-Null Count  Dtype  \n",
            "---  ------         --------------  -----  \n",
            " 0   COUNTRY        23340 non-null  object \n",
            " 1   YEAR           23340 non-null  int64  \n",
            " 2   BANK ACCOUNT   23340 non-null  object \n",
            " 3   LOCATION       23340 non-null  object \n",
            " 4   PHONE          23340 non-null  object \n",
            " 5   HOUSEHOLDSIZE  23340 non-null  float64\n",
            " 6   AGE            23340 non-null  float64\n",
            " 7   GENDER         23340 non-null  object \n",
            " 8   HOUSEHIERACHY  23340 non-null  object \n",
            " 9   STATUS         23340 non-null  object \n",
            " 10  EDUCUATION     23340 non-null  object \n",
            " 11  JOBTYPE        23340 non-null  object \n",
            "dtypes: float64(2), int64(1), object(9)\n",
            "memory usage: 2.3+ MB\n"
          ],
          "name": "stdout"
        }
      ]
    },
    {
      "cell_type": "code",
      "metadata": {
        "id": "6z0285WynRbR",
        "colab_type": "code",
        "colab": {
          "base_uri": "https://localhost:8080/",
          "height": 297
        },
        "outputId": "37cd90b0-69c2-4f57-d463-a957810da925"
      },
      "source": [
        "# To confirm there are no anomalies left\n",
        "finances.describe()\n"
      ],
      "execution_count": 25,
      "outputs": [
        {
          "output_type": "execute_result",
          "data": {
            "text/html": [
              "<div>\n",
              "<style scoped>\n",
              "    .dataframe tbody tr th:only-of-type {\n",
              "        vertical-align: middle;\n",
              "    }\n",
              "\n",
              "    .dataframe tbody tr th {\n",
              "        vertical-align: top;\n",
              "    }\n",
              "\n",
              "    .dataframe thead th {\n",
              "        text-align: right;\n",
              "    }\n",
              "</style>\n",
              "<table border=\"1\" class=\"dataframe\">\n",
              "  <thead>\n",
              "    <tr style=\"text-align: right;\">\n",
              "      <th></th>\n",
              "      <th>YEAR</th>\n",
              "      <th>HOUSEHOLDSIZE</th>\n",
              "      <th>AGE</th>\n",
              "    </tr>\n",
              "  </thead>\n",
              "  <tbody>\n",
              "    <tr>\n",
              "      <th>count</th>\n",
              "      <td>23340.000000</td>\n",
              "      <td>23340.000000</td>\n",
              "      <td>23340.000000</td>\n",
              "    </tr>\n",
              "    <tr>\n",
              "      <th>mean</th>\n",
              "      <td>2016.977464</td>\n",
              "      <td>3.688560</td>\n",
              "      <td>38.807069</td>\n",
              "    </tr>\n",
              "    <tr>\n",
              "      <th>std</th>\n",
              "      <td>0.849136</td>\n",
              "      <td>2.281275</td>\n",
              "      <td>16.519905</td>\n",
              "    </tr>\n",
              "    <tr>\n",
              "      <th>min</th>\n",
              "      <td>2016.000000</td>\n",
              "      <td>0.000000</td>\n",
              "      <td>16.000000</td>\n",
              "    </tr>\n",
              "    <tr>\n",
              "      <th>25%</th>\n",
              "      <td>2016.000000</td>\n",
              "      <td>2.000000</td>\n",
              "      <td>26.000000</td>\n",
              "    </tr>\n",
              "    <tr>\n",
              "      <th>50%</th>\n",
              "      <td>2017.000000</td>\n",
              "      <td>3.000000</td>\n",
              "      <td>35.000000</td>\n",
              "    </tr>\n",
              "    <tr>\n",
              "      <th>75%</th>\n",
              "      <td>2018.000000</td>\n",
              "      <td>5.000000</td>\n",
              "      <td>49.000000</td>\n",
              "    </tr>\n",
              "    <tr>\n",
              "      <th>max</th>\n",
              "      <td>2018.000000</td>\n",
              "      <td>21.000000</td>\n",
              "      <td>100.000000</td>\n",
              "    </tr>\n",
              "  </tbody>\n",
              "</table>\n",
              "</div>"
            ],
            "text/plain": [
              "               YEAR  HOUSEHOLDSIZE           AGE\n",
              "count  23340.000000   23340.000000  23340.000000\n",
              "mean    2016.977464       3.688560     38.807069\n",
              "std        0.849136       2.281275     16.519905\n",
              "min     2016.000000       0.000000     16.000000\n",
              "25%     2016.000000       2.000000     26.000000\n",
              "50%     2017.000000       3.000000     35.000000\n",
              "75%     2018.000000       5.000000     49.000000\n",
              "max     2018.000000      21.000000    100.000000"
            ]
          },
          "metadata": {
            "tags": []
          },
          "execution_count": 25
        }
      ]
    },
    {
      "cell_type": "code",
      "metadata": {
        "id": "mlmIN1vYvMwo",
        "colab_type": "code",
        "colab": {
          "base_uri": "https://localhost:8080/",
          "height": 306
        },
        "outputId": "ceba82f8-98f2-4d15-bde3-d1b321cb4729"
      },
      "source": [
        "finances.head()"
      ],
      "execution_count": 31,
      "outputs": [
        {
          "output_type": "execute_result",
          "data": {
            "text/html": [
              "<div>\n",
              "<style scoped>\n",
              "    .dataframe tbody tr th:only-of-type {\n",
              "        vertical-align: middle;\n",
              "    }\n",
              "\n",
              "    .dataframe tbody tr th {\n",
              "        vertical-align: top;\n",
              "    }\n",
              "\n",
              "    .dataframe thead th {\n",
              "        text-align: right;\n",
              "    }\n",
              "</style>\n",
              "<table border=\"1\" class=\"dataframe\">\n",
              "  <thead>\n",
              "    <tr style=\"text-align: right;\">\n",
              "      <th></th>\n",
              "      <th>COUNTRY</th>\n",
              "      <th>YEAR</th>\n",
              "      <th>BANK ACCOUNT</th>\n",
              "      <th>LOCATION</th>\n",
              "      <th>PHONE</th>\n",
              "      <th>HOUSEHOLDSIZE</th>\n",
              "      <th>AGE</th>\n",
              "      <th>GENDER</th>\n",
              "      <th>HOUSEHIERACHY</th>\n",
              "      <th>STATUS</th>\n",
              "      <th>EDUCUATION</th>\n",
              "      <th>JOBTYPE</th>\n",
              "    </tr>\n",
              "  </thead>\n",
              "  <tbody>\n",
              "    <tr>\n",
              "      <th>0</th>\n",
              "      <td>kenya</td>\n",
              "      <td>2018</td>\n",
              "      <td>yes</td>\n",
              "      <td>rural</td>\n",
              "      <td>yes</td>\n",
              "      <td>3.0</td>\n",
              "      <td>24.0</td>\n",
              "      <td>female</td>\n",
              "      <td>spouse</td>\n",
              "      <td>married/living together</td>\n",
              "      <td>secondary education</td>\n",
              "      <td>self employed</td>\n",
              "    </tr>\n",
              "    <tr>\n",
              "      <th>1</th>\n",
              "      <td>kenya</td>\n",
              "      <td>2018</td>\n",
              "      <td>no</td>\n",
              "      <td>rural</td>\n",
              "      <td>no</td>\n",
              "      <td>5.0</td>\n",
              "      <td>70.0</td>\n",
              "      <td>female</td>\n",
              "      <td>head of household</td>\n",
              "      <td>widowed</td>\n",
              "      <td>no formal education</td>\n",
              "      <td>government dependent</td>\n",
              "    </tr>\n",
              "    <tr>\n",
              "      <th>2</th>\n",
              "      <td>kenya</td>\n",
              "      <td>2018</td>\n",
              "      <td>yes</td>\n",
              "      <td>urban</td>\n",
              "      <td>yes</td>\n",
              "      <td>5.0</td>\n",
              "      <td>26.0</td>\n",
              "      <td>male</td>\n",
              "      <td>other relative</td>\n",
              "      <td>single/never married</td>\n",
              "      <td>vocational/specialised training</td>\n",
              "      <td>self employed</td>\n",
              "    </tr>\n",
              "    <tr>\n",
              "      <th>3</th>\n",
              "      <td>kenya</td>\n",
              "      <td>2018</td>\n",
              "      <td>no</td>\n",
              "      <td>rural</td>\n",
              "      <td>yes</td>\n",
              "      <td>5.0</td>\n",
              "      <td>34.0</td>\n",
              "      <td>female</td>\n",
              "      <td>head of household</td>\n",
              "      <td>married/living together</td>\n",
              "      <td>primary education</td>\n",
              "      <td>formally employed private</td>\n",
              "    </tr>\n",
              "    <tr>\n",
              "      <th>4</th>\n",
              "      <td>kenya</td>\n",
              "      <td>2018</td>\n",
              "      <td>no</td>\n",
              "      <td>urban</td>\n",
              "      <td>no</td>\n",
              "      <td>8.0</td>\n",
              "      <td>26.0</td>\n",
              "      <td>male</td>\n",
              "      <td>child</td>\n",
              "      <td>single/never married</td>\n",
              "      <td>primary education</td>\n",
              "      <td>informally employed</td>\n",
              "    </tr>\n",
              "  </tbody>\n",
              "</table>\n",
              "</div>"
            ],
            "text/plain": [
              "  COUNTRY  YEAR  ...                       EDUCUATION                    JOBTYPE\n",
              "0   kenya  2018  ...              secondary education              self employed\n",
              "1   kenya  2018  ...              no formal education       government dependent\n",
              "2   kenya  2018  ...  vocational/specialised training              self employed\n",
              "3   kenya  2018  ...                primary education  formally employed private\n",
              "4   kenya  2018  ...                primary education        informally employed\n",
              "\n",
              "[5 rows x 12 columns]"
            ]
          },
          "metadata": {
            "tags": []
          },
          "execution_count": 31
        }
      ]
    },
    {
      "cell_type": "markdown",
      "metadata": {
        "id": "AfzPFK4kojGg",
        "colab_type": "text"
      },
      "source": [
        "# EXPLORATORY DATA ANALYSIS"
      ]
    },
    {
      "cell_type": "markdown",
      "metadata": {
        "id": "-YtQ4jZGr-6g",
        "colab_type": "text"
      },
      "source": [
        "UNIVARIATE ANALYSIS"
      ]
    },
    {
      "cell_type": "code",
      "metadata": {
        "id": "hdAmo7NZsDFj",
        "colab_type": "code",
        "colab": {
          "base_uri": "https://localhost:8080/",
          "height": 619
        },
        "outputId": "3fb40484-2505-4109-a11d-eca2a20c39e6"
      },
      "source": [
        "# To plot the univariate summaries \n",
        "columns = ['YEAR', 'HOUSEHOLDSIZE', 'AGE']\n",
        "\n",
        "fig, ax = plt.subplots(len(columns), figsize=(8,10))\n",
        "\n",
        "for i, col_val in enumerate(columns):\n",
        "  sns.distplot(finances[col_val], hist=True, ax=ax[i], color='blue')\n",
        "  ax[i].set_title('Frequency Dist' + col_val, fontsize=10)\n",
        "  ax[i].set_xlabel(col_val, fontsize=8)\n",
        "  ax[i].set_ylabel(col_val, fontsize=8)\n",
        "\n",
        "plt.show()"
      ],
      "execution_count": 34,
      "outputs": [
        {
          "output_type": "display_data",
          "data": {
            "image/png": "[encoded data removed]",
            "text/plain": [
              "<Figure size 576x720 with 3 Axes>"
            ]
          },
          "metadata": {
            "tags": [],
            "needs_background": "light"
          }
        }
      ]
    },
    {
      "cell_type": "code",
      "metadata": {
        "id": "38SOVAVtv1iv",
        "colab_type": "code",
        "colab": {
          "base_uri": "https://localhost:8080/",
          "height": 359
        },
        "outputId": "d452561d-3af1-45f5-ac5c-3c54008e6d86"
      },
      "source": [
        "# measure of central tendancy for categorical data\n",
        "finances_mode =finances[['COUNTRY', 'YEAR', 'BANK ACCOUNT', 'LOCATION', 'PHONE', 'GENDER', 'HOUSEHIERACHY', 'STATUS','EDUCUATION', 'JOBTYPE']].mode()\n",
        "finances_mode.T"
      ],
      "execution_count": 35,
      "outputs": [
        {
          "output_type": "execute_result",
          "data": {
            "text/html": [
              "<div>\n",
              "<style scoped>\n",
              "    .dataframe tbody tr th:only-of-type {\n",
              "        vertical-align: middle;\n",
              "    }\n",
              "\n",
              "    .dataframe tbody tr th {\n",
              "        vertical-align: top;\n",
              "    }\n",
              "\n",
              "    .dataframe thead th {\n",
              "        text-align: right;\n",
              "    }\n",
              "</style>\n",
              "<table border=\"1\" class=\"dataframe\">\n",
              "  <thead>\n",
              "    <tr style=\"text-align: right;\">\n",
              "      <th></th>\n",
              "      <th>0</th>\n",
              "    </tr>\n",
              "  </thead>\n",
              "  <tbody>\n",
              "    <tr>\n",
              "      <th>COUNTRY</th>\n",
              "      <td>rwanda</td>\n",
              "    </tr>\n",
              "    <tr>\n",
              "      <th>YEAR</th>\n",
              "      <td>2016</td>\n",
              "    </tr>\n",
              "    <tr>\n",
              "      <th>BANK ACCOUNT</th>\n",
              "      <td>no</td>\n",
              "    </tr>\n",
              "    <tr>\n",
              "      <th>LOCATION</th>\n",
              "      <td>rural</td>\n",
              "    </tr>\n",
              "    <tr>\n",
              "      <th>PHONE</th>\n",
              "      <td>yes</td>\n",
              "    </tr>\n",
              "    <tr>\n",
              "      <th>GENDER</th>\n",
              "      <td>female</td>\n",
              "    </tr>\n",
              "    <tr>\n",
              "      <th>HOUSEHIERACHY</th>\n",
              "      <td>head of household</td>\n",
              "    </tr>\n",
              "    <tr>\n",
              "      <th>STATUS</th>\n",
              "      <td>married/living together</td>\n",
              "    </tr>\n",
              "    <tr>\n",
              "      <th>EDUCUATION</th>\n",
              "      <td>primary education</td>\n",
              "    </tr>\n",
              "    <tr>\n",
              "      <th>JOBTYPE</th>\n",
              "      <td>self employed</td>\n",
              "    </tr>\n",
              "  </tbody>\n",
              "</table>\n",
              "</div>"
            ],
            "text/plain": [
              "                                     0\n",
              "COUNTRY                         rwanda\n",
              "YEAR                              2016\n",
              "BANK ACCOUNT                        no\n",
              "LOCATION                         rural\n",
              "PHONE                              yes\n",
              "GENDER                          female\n",
              "HOUSEHIERACHY        head of household\n",
              "STATUS         married/living together\n",
              "EDUCUATION           primary education\n",
              "JOBTYPE                  self employed"
            ]
          },
          "metadata": {
            "tags": []
          },
          "execution_count": 35
        }
      ]
    },
    {
      "cell_type": "code",
      "metadata": {
        "id": "zf8UMqDswZYz",
        "colab_type": "code",
        "colab": {
          "base_uri": "https://localhost:8080/",
          "height": 297
        },
        "outputId": "7abb3922-b8b3-4ab7-8f58-29a7a18120cd"
      },
      "source": [
        "# measure of Central Tendancy for numerical data\n",
        "finances.describe()\n",
        "# 25% is the first quatile\n",
        "# 50% is the median\n",
        "# 75% is the third quatile\n",
        "# std is the standard deviation"
      ],
      "execution_count": 37,
      "outputs": [
        {
          "output_type": "execute_result",
          "data": {
            "text/html": [
              "<div>\n",
              "<style scoped>\n",
              "    .dataframe tbody tr th:only-of-type {\n",
              "        vertical-align: middle;\n",
              "    }\n",
              "\n",
              "    .dataframe tbody tr th {\n",
              "        vertical-align: top;\n",
              "    }\n",
              "\n",
              "    .dataframe thead th {\n",
              "        text-align: right;\n",
              "    }\n",
              "</style>\n",
              "<table border=\"1\" class=\"dataframe\">\n",
              "  <thead>\n",
              "    <tr style=\"text-align: right;\">\n",
              "      <th></th>\n",
              "      <th>YEAR</th>\n",
              "      <th>HOUSEHOLDSIZE</th>\n",
              "      <th>AGE</th>\n",
              "    </tr>\n",
              "  </thead>\n",
              "  <tbody>\n",
              "    <tr>\n",
              "      <th>count</th>\n",
              "      <td>23340.000000</td>\n",
              "      <td>23340.000000</td>\n",
              "      <td>23340.000000</td>\n",
              "    </tr>\n",
              "    <tr>\n",
              "      <th>mean</th>\n",
              "      <td>2016.977464</td>\n",
              "      <td>3.688560</td>\n",
              "      <td>38.807069</td>\n",
              "    </tr>\n",
              "    <tr>\n",
              "      <th>std</th>\n",
              "      <td>0.849136</td>\n",
              "      <td>2.281275</td>\n",
              "      <td>16.519905</td>\n",
              "    </tr>\n",
              "    <tr>\n",
              "      <th>min</th>\n",
              "      <td>2016.000000</td>\n",
              "      <td>0.000000</td>\n",
              "      <td>16.000000</td>\n",
              "    </tr>\n",
              "    <tr>\n",
              "      <th>25%</th>\n",
              "      <td>2016.000000</td>\n",
              "      <td>2.000000</td>\n",
              "      <td>26.000000</td>\n",
              "    </tr>\n",
              "    <tr>\n",
              "      <th>50%</th>\n",
              "      <td>2017.000000</td>\n",
              "      <td>3.000000</td>\n",
              "      <td>35.000000</td>\n",
              "    </tr>\n",
              "    <tr>\n",
              "      <th>75%</th>\n",
              "      <td>2018.000000</td>\n",
              "      <td>5.000000</td>\n",
              "      <td>49.000000</td>\n",
              "    </tr>\n",
              "    <tr>\n",
              "      <th>max</th>\n",
              "      <td>2018.000000</td>\n",
              "      <td>21.000000</td>\n",
              "      <td>100.000000</td>\n",
              "    </tr>\n",
              "  </tbody>\n",
              "</table>\n",
              "</div>"
            ],
            "text/plain": [
              "               YEAR  HOUSEHOLDSIZE           AGE\n",
              "count  23340.000000   23340.000000  23340.000000\n",
              "mean    2016.977464       3.688560     38.807069\n",
              "std        0.849136       2.281275     16.519905\n",
              "min     2016.000000       0.000000     16.000000\n",
              "25%     2016.000000       2.000000     26.000000\n",
              "50%     2017.000000       3.000000     35.000000\n",
              "75%     2018.000000       5.000000     49.000000\n",
              "max     2018.000000      21.000000    100.000000"
            ]
          },
          "metadata": {
            "tags": []
          },
          "execution_count": 37
        }
      ]
    },
    {
      "cell_type": "code",
      "metadata": {
        "id": "TLhs-cVRwhpU",
        "colab_type": "code",
        "colab": {}
      },
      "source": [
        "# interquartile age range\n",
        "q1_AGE,q3_AGE = np.percentile(finances['Respondent Age'],[25,75])\n",
        "iqr_AGE = q3_AGE - q1_AGE\n",
        "print('THE AGE INTERQUATILE RANGE IS',iqr_AGE)\n",
        "# confidence interval\n",
        "l_bound_AGE = q1_AGE - (1.5*iqr_AGE)\n",
        "u_bound_AGE = q3_AGE + (1.5*iqr_AGE)\n",
        "print('Confidence interval is =',u_bound_AGE,'--',l_bound_AGE )\n",
        "print('\\n')\n",
        "\n",
        "# interquartile range householdsize\n",
        "q1_HOUSEHOLDSIZE,q3_HOUSEHOLDSIZE = np.percentile(finances['household_size'],[25,75])\n",
        "iqr_HOUSEHOLDSIZE = q3_HOUSEHOLDSIZE - q1_HOUSEHOLDSIZE\n",
        "print('THE HOUSEHOLDSIZE INTERQUATILE RANGE IS',iqr_HOUSEHOLDSIZE)\n",
        "# confidence interval\n",
        "l_bound_HOUSEHOLDSIZE = q1_HOUSEHOLDSIZE - (1.5*iqr_HOUSEHOLDSIZE)\n",
        "u_bound_HOUSEHOLDSIZE = q3_HOUSEHOLDSIZE + (1.5*iqr_HOUSEHOLDSIZE)\n",
        "print('Confidence interval is =',u_bound_HOUSEHOLDSIZE,'--',l_bound_HOUSEHOLDSIZE)"
      ],
      "execution_count": 0,
      "outputs": []
    },
    {
      "cell_type": "code",
      "metadata": {
        "id": "m81zMXLyxv_Y",
        "colab_type": "code",
        "colab": {
          "base_uri": "https://localhost:8080/",
          "height": 34
        },
        "outputId": "a9875d22-3752-44a3-ddc9-b26de0dc0578"
      },
      "source": [
        "# to find range\n",
        "print(\"HOUSEHOLDSIZE RANGE IS =\",finances['HOUSEHOLDSIZE'].max()-finances['HOUSEHOLDSIZE'].min())"
      ],
      "execution_count": 38,
      "outputs": [
        {
          "output_type": "stream",
          "text": [
            "HOUSEHOLDSIZE RANGE IS = 21.0\n"
          ],
          "name": "stdout"
        }
      ]
    },
    {
      "cell_type": "code",
      "metadata": {
        "id": "jVJUxZ3eyI59",
        "colab_type": "code",
        "colab": {
          "base_uri": "https://localhost:8080/",
          "height": 810
        },
        "outputId": "33c837ee-050c-482f-a307-629e613d4603"
      },
      "source": [
        "# To visualize numerical data\n",
        "fig, ((ax1,ax2,ax3),(ax4,ax5,ax6)) = plt.subplots(2,3,figsize = (10,7))\n",
        "\n",
        "plt.suptitle('BAR GRAPHS')\n",
        "\n",
        "plt.xticks(rotation=90)\n",
        "sns.countplot(finances.COUNTRY, ax=ax1)\n",
        "sns.countplot(finances['BANK ACCOUNT'], ax=ax2)\n",
        "sns.countplot(finances['LOCATION'], ax=ax3)\n",
        "\n",
        "EDUCUATION = sns.countplot(finances['EDUCUATION'], ax=ax4)\n",
        "EDUCUATION.set_xticklabels(EDUCUATION.get_xticklabels(),rotation = 90)\n",
        "\n",
        "STATUS=sns.countplot(finances['STATUS'], ax=ax6)\n",
        "\n",
        "JOBTYPE=sns.countplot(finances['JOBTYPE'], ax=ax5)\n",
        "JOBTYPE.set_xticklabels(JOBTYPE.get_xticklabels(),rotation = 90)\n",
        "\n"
      ],
      "execution_count": 40,
      "outputs": [
        {
          "output_type": "execute_result",
          "data": {
            "text/plain": [
              "[Text(0, 0, 'self employed'),\n",
              " Text(0, 0, 'government dependent'),\n",
              " Text(0, 0, 'formally employed private'),\n",
              " Text(0, 0, 'informally employed'),\n",
              " Text(0, 0, 'formally employed government'),\n",
              " Text(0, 0, 'farming and fishing'),\n",
              " Text(0, 0, 'remittance dependent'),\n",
              " Text(0, 0, 'other income'),\n",
              " Text(0, 0, 'dont know/refuse to answer'),\n",
              " Text(0, 0, 'no income')]"
            ]
          },
          "metadata": {
            "tags": []
          },
          "execution_count": 40
        },
        {
          "output_type": "display_data",
          "data": {
            "image/png": "[encoded data removed]",
            "text/plain": [
              "<Figure size 720x504 with 6 Axes>"
            ]
          },
          "metadata": {
            "tags": [],
            "needs_background": "light"
          }
        }
      ]
    },
    {
      "cell_type": "code",
      "metadata": {
        "id": "G2Ow9S3bzJYB",
        "colab_type": "code",
        "colab": {
          "base_uri": "https://localhost:8080/",
          "height": 472
        },
        "outputId": "dbe3d9cc-8672-4ef2-d17e-25be6360f28c"
      },
      "source": [
        "# To visualize categorical data\n",
        "\n",
        "fig, (ax4,ax5,ax6) = plt.subplots(1,3,figsize = (12,5))\n",
        "plt.suptitle('BAR GRAPHS')\n",
        "plt.xticks(rotation=90)\n",
        "sns.countplot(finances['PHONE'], ax=ax4)\n",
        "sns.countplot(finances['GENDER'], ax=ax5)\n",
        "sns.countplot(finances['HOUSEHIERACHY'], ax=ax6)"
      ],
      "execution_count": 42,
      "outputs": [
        {
          "output_type": "execute_result",
          "data": {
            "text/plain": [
              "<matplotlib.axes._subplots.AxesSubplot at 0x7f518f6de4a8>"
            ]
          },
          "metadata": {
            "tags": []
          },
          "execution_count": 42
        },
        {
          "output_type": "display_data",
          "data": {
            "image/png": "[encoded data removed]",
            "text/plain": [
              "<Figure size 864x360 with 3 Axes>"
            ]
          },
          "metadata": {
            "tags": [],
            "needs_background": "light"
          }
        }
      ]
    },
    {
      "cell_type": "code",
      "metadata": {
        "id": "dwYNnLqOz5et",
        "colab_type": "code",
        "colab": {
          "base_uri": "https://localhost:8080/",
          "height": 119
        },
        "outputId": "da791f89-f412-417f-8711-9a30f82ab7f6"
      },
      "source": [
        "#To check for skewness\n",
        "print(\"HOUSEHOLD SIZE SKEWNESS = \",finances['HOUSEHOLDSIZE'].skew())\n",
        "print(\"HOUSEHOLD SIZE KURTOSIS = \",finances['HOUSEHOLDSIZE'].kurt())\n",
        "print('\\n')\n",
        "print(\"AGE SKEWNESS = \",finances['AGE'].skew())\n",
        "print(\"AGE KURTOSIS = \",finances['AGE'].kurt())"
      ],
      "execution_count": 44,
      "outputs": [
        {
          "output_type": "stream",
          "text": [
            "HOUSEHOLD SIZE SKEWNESS =  0.9741827150450616\n",
            "HOUSEHOLD SIZE KURTOSIS =  1.1538357462528523\n",
            "\n",
            "\n",
            "AGE SKEWNESS =  0.8406145812311228\n",
            "AGE KURTOSIS =  0.09826807013177241\n"
          ],
          "name": "stdout"
        }
      ]
    },
    {
      "cell_type": "code",
      "metadata": {
        "id": "giNUZDRC9Kkj",
        "colab_type": "code",
        "colab": {
          "base_uri": "https://localhost:8080/",
          "height": 1000
        },
        "outputId": "7ab7f65a-1601-4cbb-b557-3d060ef04029"
      },
      "source": [
        "#  Frequency tables for categorical variables\n",
        "print('COUNTRY')\n",
        "print(finances.COUNTRY.value_counts())\n",
        "print(\"\\n\")\n",
        "print('YEAR')\n",
        "print(finances['YEAR'].value_counts())\n",
        "print(\"\\n\")\n",
        "print('BANK ACCOUNT ACCESS')\n",
        "print(finances['BANK ACCOUNT'].value_counts())\n",
        "print(\"\\n\")\n",
        "print('RESPONDENTS LOCATION')\n",
        "print(finances['LOCATION'].value_counts())\n",
        "print(\"\\n\")\n",
        "print('CELLPHONE ACCESS')\n",
        "print(finances['PHONE'].value_counts())\n",
        "print(\"\\n\")\n",
        "print('RESPONDENTS GENDER')\n",
        "print(finances['GENDER'].value_counts())\n",
        "print(\"\\n\")\n",
        "print('RESPONDENT RELATIONSHIP RELATION WITH HOUSEHEAD')\n",
        "print(finances['HOUSEHIERACHY'].value_counts())\n",
        "print(\"\\n\")\n",
        "print('MARITAL STATUS')\n",
        "print(finances['STATUS'].value_counts())\n",
        "print(\"\\n\")\n",
        "print('EDUCATION LEVEL')\n",
        "print(finances['EDUCUATION'].value_counts())\n",
        "print(\"\\n\")\n",
        "print('JOBTYPE')\n",
        "print(finances['JOBTYPE'].value_counts())"
      ],
      "execution_count": 45,
      "outputs": [
        {
          "output_type": "stream",
          "text": [
            "COUNTRY\n",
            "rwanda      8683\n",
            "tanzania    6500\n",
            "kenya       6062\n",
            "uganda      2095\n",
            "Name: COUNTRY, dtype: int64\n",
            "\n",
            "\n",
            "YEAR\n",
            "2016    8683\n",
            "2018    8157\n",
            "2017    6500\n",
            "Name: YEAR, dtype: int64\n",
            "\n",
            "\n",
            "BANK ACCOUNT ACCESS\n",
            "no     20044\n",
            "yes     3296\n",
            "Name: BANK ACCOUNT, dtype: int64\n",
            "\n",
            "\n",
            "RESPONDENTS LOCATION\n",
            "rural    14263\n",
            "urban     9077\n",
            "Name: LOCATION, dtype: int64\n",
            "\n",
            "\n",
            "CELLPHONE ACCESS\n",
            "yes    17331\n",
            "no      6009\n",
            "Name: PHONE, dtype: int64\n",
            "\n",
            "\n",
            "RESPONDENTS GENDER\n",
            "female    13766\n",
            "male       9574\n",
            "Name: GENDER, dtype: int64\n",
            "\n",
            "\n",
            "RESPONDENT RELATIONSHIP RELATION WITH HOUSEHEAD\n",
            "head of household      12729\n",
            "spouse                  6470\n",
            "child                   2221\n",
            "parent                  1069\n",
            "other relative           662\n",
            "other non-relatives      189\n",
            "Name: HOUSEHIERACHY, dtype: int64\n",
            "\n",
            "\n",
            "MARITAL STATUS\n",
            "married/living together    10698\n",
            "single/never married        7902\n",
            "widowed                     2683\n",
            "divorced/seperated          2049\n",
            "dont know                      8\n",
            "Name: STATUS, dtype: int64\n",
            "\n",
            "\n",
            "EDUCATION LEVEL\n",
            "primary education                  12688\n",
            "no formal education                 4467\n",
            "secondary education                 4206\n",
            "tertiary education                  1143\n",
            "vocational/specialised training      801\n",
            "6                                     27\n",
            "other/dont know/rta                    8\n",
            "Name: EDUCUATION, dtype: int64\n",
            "\n",
            "\n",
            "JOBTYPE\n",
            "self employed                   6361\n",
            "informally employed             5549\n",
            "farming and fishing             5422\n",
            "remittance dependent            2508\n",
            "other income                    1077\n",
            "formally employed private       1047\n",
            "no income                        618\n",
            "formally employed government     386\n",
            "government dependent             247\n",
            "dont know/refuse to answer       125\n",
            "Name: JOBTYPE, dtype: int64\n"
          ],
          "name": "stdout"
        }
      ]
    },
    {
      "cell_type": "markdown",
      "metadata": {
        "id": "_MXKelj09o7S",
        "colab_type": "text"
      },
      "source": [
        "BIVARIATE ANALYSIS"
      ]
    },
    {
      "cell_type": "code",
      "metadata": {
        "id": "63jrC4Lp9vQR",
        "colab_type": "code",
        "colab": {
          "base_uri": "https://localhost:8080/",
          "height": 241
        },
        "outputId": "4b6adc6e-3b58-4f6a-bef2-ce3f5fe7279b"
      },
      "source": [
        "# First, import our libraries\n",
        "!pip install researchpy\n",
        "import researchpy as rp"
      ],
      "execution_count": 46,
      "outputs": [
        {
          "output_type": "stream",
          "text": [
            "Collecting researchpy\n",
            "  Downloading https://files.pythonhosted.org/packages/c2/e4/6fef21ad13c0b48ccbafba3ad8bd0bd65af0c9eb1aad9a82fec66c9de1ed/researchpy-0.1.9-py3-none-any.whl\n",
            "Requirement already satisfied: numpy in /usr/local/lib/python3.6/dist-packages (from researchpy) (1.18.3)\n",
            "Requirement already satisfied: scipy in /usr/local/lib/python3.6/dist-packages (from researchpy) (1.4.1)\n",
            "Requirement already satisfied: statsmodels in /usr/local/lib/python3.6/dist-packages (from researchpy) (0.10.2)\n",
            "Requirement already satisfied: pandas in /usr/local/lib/python3.6/dist-packages (from researchpy) (1.0.3)\n",
            "Requirement already satisfied: patsy>=0.4.0 in /usr/local/lib/python3.6/dist-packages (from statsmodels->researchpy) (0.5.1)\n",
            "Requirement already satisfied: pytz>=2017.2 in /usr/local/lib/python3.6/dist-packages (from pandas->researchpy) (2018.9)\n",
            "Requirement already satisfied: python-dateutil>=2.6.1 in /usr/local/lib/python3.6/dist-packages (from pandas->researchpy) (2.8.1)\n",
            "Requirement already satisfied: six in /usr/local/lib/python3.6/dist-packages (from patsy>=0.4.0->statsmodels->researchpy) (1.12.0)\n",
            "Installing collected packages: researchpy\n",
            "Successfully installed researchpy-0.1.9\n"
          ],
          "name": "stdout"
        }
      ]
    },
    {
      "cell_type": "code",
      "metadata": {
        "id": "Zb5HQKII-EID",
        "colab_type": "code",
        "colab": {
          "base_uri": "https://localhost:8080/",
          "height": 357
        },
        "outputId": "06fa55eb-8ad4-4be9-9ba1-a8634dc62c91"
      },
      "source": [
        "# To analyse numeric data\n",
        "print('AGE ANALYSIS PER COUNTRY')\n",
        "print(round(rp.summary_cont(finances.groupby(['COUNTRY'])['AGE'])))\n",
        "print('\\n')\n",
        "print('HOUSEHOLDSIZE ANALYSIS PER COUNTRY')\n",
        "print(round(rp.summary_cont(finances.groupby(['COUNTRY'])['HOUSEHOLDSIZE'])))"
      ],
      "execution_count": 49,
      "outputs": [
        {
          "output_type": "stream",
          "text": [
            "AGE ANALYSIS PER COUNTRY\n",
            "\n",
            "\n",
            "             N  Mean    SD   SE  95% Conf.  Interval\n",
            "COUNTRY                                             \n",
            "kenya     6062  40.0  17.0  0.0       39.0      40.0\n",
            "rwanda    8683  39.0  16.0  0.0       39.0      40.0\n",
            "tanzania  6500  38.0  16.0  0.0       38.0      39.0\n",
            "uganda    2095  35.0  15.0  0.0       35.0      36.0\n",
            "\n",
            "\n",
            "HOUSEHOLDSIZE ANALYSIS PER COUNTRY\n",
            "\n",
            "\n",
            "             N  Mean   SD   SE  95% Conf.  Interval\n",
            "COUNTRY                                            \n",
            "kenya     6062   4.0  2.0  0.0        4.0       4.0\n",
            "rwanda    8683   4.0  2.0  0.0        4.0       5.0\n",
            "tanzania  6500   2.0  1.0  0.0        2.0       2.0\n",
            "uganda    2095   5.0  3.0  0.0        5.0       5.0\n"
          ],
          "name": "stdout"
        }
      ]
    },
    {
      "cell_type": "code",
      "metadata": {
        "id": "ammnoRbf_CwF",
        "colab_type": "code",
        "colab": {
          "base_uri": "https://localhost:8080/",
          "height": 312
        },
        "outputId": "9d07c6f2-1652-46fb-fdc9-98181ebe171f"
      },
      "source": [
        "# To visualize gender against access to bank account\n",
        "finances.plot(x= 'AGE', y= 'HOUSEHOLDSIZE', kind = \"scatter\")\n",
        "plt.title(\"HOUSEHOLD SIZE AND AGE SCATTER PLOT\")\n"
      ],
      "execution_count": 54,
      "outputs": [
        {
          "output_type": "execute_result",
          "data": {
            "text/plain": [
              "Text(0.5, 1.0, 'HOUSEHOLD SIZE AND AGE SCATTER PLOT')"
            ]
          },
          "metadata": {
            "tags": []
          },
          "execution_count": 54
        },
        {
          "output_type": "display_data",
          "data": {
            "image/png": "[encoded data removed]",
            "text/plain": [
              "<Figure size 432x288 with 1 Axes>"
            ]
          },
          "metadata": {
            "tags": [],
            "needs_background": "light"
          }
        }
      ]
    },
    {
      "cell_type": "code",
      "metadata": {
        "id": "eH7ShLcf_WPe",
        "colab_type": "code",
        "colab": {}
      },
      "source": [
        ""
      ],
      "execution_count": 0,
      "outputs": []
    }
  ]
}